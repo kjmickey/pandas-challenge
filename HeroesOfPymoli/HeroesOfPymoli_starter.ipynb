{
 "cells": [
  {
   "cell_type": "markdown",
   "metadata": {},
   "source": [
    "### Note\n",
    "* Instructions have been included for each segment. You do not have to follow them exactly, but they are included to help you think through the steps."
   ]
  },
  {
   "cell_type": "code",
   "execution_count": null,
   "metadata": {},
   "outputs": [],
   "source": [
    "# Dependencies and Setup\n",
    "import pandas as pd\n",
    "import numpy as np\n",
    "\n",
    "# File to Load \n",
    "file_to_load = \"Resources/purchasedata.csv\"\n",
    "\n",
    "# Read Purchasing File and store into Pandas data frame, \n",
    "# print head to make sure it prints and for header reference\n",
    "# I was having trouble with my sub data sets, so I just moved all their definitions up here so \n",
    "# they weren't getting overwritten in prior steps.  \n",
    "df = pd.read_csv(file_to_load)\n",
    "binning_df = df.copy()\n",
    "binDupe = df.drop_duplicates(subset = 'SN', keep = 'first')\n",
    "groupBySN = df.groupby([\"SN\"])\n",
    "groupItem = df.groupby([\"Item ID\", \"Item Name\"])\n",
    "df.head()\n"
   ]
  },
  {
   "cell_type": "markdown",
   "metadata": {},
   "source": [
    "## Player Count"
   ]
  },
  {
   "cell_type": "markdown",
   "metadata": {},
   "source": [
    "* Display the total number of players\n"
   ]
  },
  {
   "cell_type": "code",
   "execution_count": null,
   "metadata": {},
   "outputs": [],
   "source": [
    "uniquePlayers = len(df['SN'].unique())\n",
    "\n",
    "pd.DataFrame({\"Total Players\":[uniquePlayers]})\n"
   ]
  },
  {
   "cell_type": "markdown",
   "metadata": {},
   "source": [
    "## Purchasing Analysis (Total)"
   ]
  },
  {
   "cell_type": "markdown",
   "metadata": {},
   "source": [
    "* Run basic calculations to obtain number of unique items, average price, etc.\n",
    "\n",
    "\n",
    "* Create a summary data frame to hold the results\n",
    "\n",
    "\n",
    "* Optional: give the displayed data cleaner formatting\n",
    "\n",
    "\n",
    "* Display the summary data frame\n"
   ]
  },
  {
   "cell_type": "code",
   "execution_count": null,
   "metadata": {
    "scrolled": true
   },
   "outputs": [],
   "source": [
    "#Filter out duplicate items\n",
    "uniqueItems = len(df[\"Item Name\"].unique())\n",
    "# Calculate average sale price\n",
    "averagePrice = df[\"Price\"].mean()\n",
    "# Count how many purchases were made\n",
    "countPurchases = len(df[\"Price\"])\n",
    "# Calculate total revenue (Sum of all purchases)\n",
    "totalPurchases = df[\"Price\"].sum()\n",
    "summaryTable = pd.DataFrame({\"Unique Items\":[uniqueItems],\"Average Price\":[averagePrice],\"Number of Purchases\":[countPurchases], \"Total Purchases\":[totalPurchases]})\n",
    "summaryTable"
   ]
  },
  {
   "cell_type": "markdown",
   "metadata": {},
   "source": [
    "## Gender Demographics"
   ]
  },
  {
   "cell_type": "markdown",
   "metadata": {},
   "source": [
    "* Percentage and Count of Male Players\n",
    "\n",
    "\n",
    "* Percentage and Count of Female Players\n",
    "\n",
    "\n",
    "* Percentage and Count of Other / Non-Disclosed\n",
    "\n",
    "\n"
   ]
  },
  {
   "cell_type": "code",
   "execution_count": null,
   "metadata": {},
   "outputs": [],
   "source": [
    "# Count number of each gender\n",
    "# First have to drop the duplicates \n",
    "dropDupes = df.drop_duplicates(subset = 'SN', keep = 'first')\n",
    "# This gives the total non-duplicate players\n",
    "genderCount = dropDupes[\"Gender\"].count()\n",
    "\n",
    "#Count each gender\n",
    "maleCount = dropDupes['Gender'].value_counts()['Male']\n",
    "femaleCount = dropDupes['Gender'].value_counts()['Female']\n",
    "otherCount = dropDupes['Gender'].value_counts()['Other / Non-Disclosed']\n",
    "\n",
    "#Calculate the percentage of each gender\n",
    "malePercent = (maleCount / genderCount) * 100\n",
    "femalePercent = (femaleCount / genderCount) * 100\n",
    "otherPercent = (otherCount / genderCount) * 100\n",
    "\n",
    "genderDemo = pd.DataFrame({'':['Male','Female','Other / Non-Disclosed'], \n",
    "                           'Percentage of Players':[malePercent, femalePercent, otherPercent],\n",
    "                           'Total Count':[maleCount, femaleCount, otherCount]})\n",
    "\n",
    "genderDemo[\"Percentage of Players\"] = genderDemo[\"Percentage of Players\"].map(\"{:.2f}%\".format)\n",
    "genderDemo = genderDemo.set_index('')\n",
    "genderDemo\n"
   ]
  },
  {
   "cell_type": "markdown",
   "metadata": {},
   "source": [
    "\n",
    "## Purchasing Analysis (Gender)"
   ]
  },
  {
   "cell_type": "markdown",
   "metadata": {},
   "source": [
    "* Run basic calculations to obtain purchase count, avg. purchase price, avg. purchase total per person etc. by gender\n",
    "\n",
    "\n",
    "\n",
    "\n",
    "* Create a summary data frame to hold the results\n",
    "\n",
    "\n",
    "* Optional: give the displayed data cleaner formatting\n",
    "\n",
    "\n",
    "* Display the summary data frame"
   ]
  },
  {
   "cell_type": "code",
   "execution_count": null,
   "metadata": {},
   "outputs": [],
   "source": [
    "groupedDF = df.groupby(['Gender'])\n",
    "purchaseCount = groupedDF['SN'].count()\n",
    "avgPurchasePrice = groupedDF['Price'].mean()\n",
    "purchaseValue = groupedDF['Price'].sum()\n",
    "\n",
    "groupedDeDuped = dropDupes.groupby(['Gender'])\n",
    "\n",
    "purchNorm = (groupedDF['Price'].sum()/groupedDF['SN'].count())\n",
    "\n",
    "PurchasedByGen = pd.DataFrame({'Purchase Count': purchaseCount, 'Avg Purchase Price': avgPurchasePrice,\n",
    "                               'Normalized Totals': purchNorm})\n",
    "PurchasedByGen"
   ]
  },
  {
   "cell_type": "markdown",
   "metadata": {},
   "source": [
    "## Age Demographics"
   ]
  },
  {
   "cell_type": "markdown",
   "metadata": {},
   "source": [
    "* Establish bins for ages\n",
    "\n",
    "\n",
    "* Categorize the existing players using the age bins. Hint: use pd.cut()\n",
    "\n",
    "\n",
    "* Calculate the numbers and percentages by age group\n",
    "\n",
    "\n",
    "* Create a summary data frame to hold the results\n",
    "\n",
    "\n",
    "* Optional: round the percentage column to two decimal points\n",
    "\n",
    "\n",
    "* Display Age Demographics Table\n"
   ]
  },
  {
   "cell_type": "code",
   "execution_count": null,
   "metadata": {
    "scrolled": true
   },
   "outputs": [],
   "source": [
    "#Define bins and bin labels\n",
    "ageBins = [0, 10, 14, 18, 22, 26, 30, 34, 38, 40]\n",
    "binLabel = ['<10', '10-14', '15-19', '20-24', '25-29', '30-34', '35-39', '40-44', '>45']\n",
    "\n",
    "#Count how many in each Age Range\n",
    "df['Age Range']=pd.cut(df['Age'],ageBins,labels=binLabel)\n",
    "ageDemoTotal=df['Age Range'].value_counts()\n",
    "\n",
    "#Calculate Percent of each age range\n",
    "ageDemoPercent=ageDemoTotal/uniquePlayers *100\n",
    "\n",
    "#Data Frame for Age demographics \n",
    "ageSummary=pd.DataFrame({'Percent of Players':ageDemoPercent,'Total Count':ageDemoTotal})\n",
    "df=pd.DataFrame({'Percent of Players':ageDemoPercent,'Total Count':ageDemoTotal})\n",
    "ageSummary_df=df.loc[:,['Percent of Players','Total Count']]\n",
    "\n",
    "ageSummary_df=ageSummary_df.sort_index()\n",
    "ageSummary_df.round(2)\n",
    "\n"
   ]
  },
  {
   "cell_type": "markdown",
   "metadata": {},
   "source": [
    "## Purchasing Analysis (Age)"
   ]
  },
  {
   "cell_type": "markdown",
   "metadata": {},
   "source": [
    "* Bin the purchase_data data frame by age\n",
    "\n",
    "\n",
    "* Run basic calculations to obtain purchase count, avg. purchase price, avg. purchase total per person etc. in the table below\n",
    "\n",
    "\n",
    "* Create a summary data frame to hold the results\n",
    "\n",
    "\n",
    "* Optional: give the displayed data cleaner formatting\n",
    "\n",
    "\n",
    "* Display the summary data frame"
   ]
  },
  {
   "cell_type": "code",
   "execution_count": null,
   "metadata": {},
   "outputs": [],
   "source": [
    "#binning_df = df.copy()  <-- moved this up top\n",
    "binning_df['Age Groups'] = pd.cut(binning_df['Age'], ageBins, labels=binLabel)\n",
    "\n",
    "\n",
    "binColumn = pd.cut(binning_df[\"Age\"], ageBins, labels=binLabel)\n",
    "groupedBin = binning_df.groupby([\"Age Groups\"])\n",
    "\n",
    "#Calculate Purchases (#), Average Price and Total spent\n",
    "binPurchCount = groupedBin['Age'].count()\n",
    "binPurchAvg = groupedBin['Price'].mean()\n",
    "binPurchTotal = groupedBin['Price'].sum()\n",
    "\n",
    "# Create a new, clean data frame for bin manipulation\n",
    "binDupe['Age Groups'] = pd.cut(binDupe['Age'], ageBins, labels = binLabel)\n",
    "\n",
    "\n",
    "binDupe = binDupe.groupby(['Age Groups'])\n",
    "\n",
    "binNormal = (groupedBin['Price'].sum() / binDupe['SN'].count())\n",
    "ageDemographic = pd.DataFrame({'Purchase Count': binPurchCount, 'Average Purchase Price': binPurchAvg,\n",
    "                              'Total Purchase Value': binPurchTotal, 'Normalized Totals':binNormal})\n",
    "\n",
    "ageDemographic[\"Average Purchase Price\"] = ageDemographic[\"Average Purchase Price\"].map(\"${:.2f}\".format)\n",
    "ageDemographic[\"Total Purchase Value\"] = ageDemographic[\"Total Purchase Value\"].map(\"${:.2f}\".format)\n",
    "ageDemographic[\"Normalized Totals\"] = ageDemographic[\"Normalized Totals\"].map(\"${:.2f}\".format)\n",
    "ageDemographic = ageDemographic[[\"Purchase Count\", \"Average Purchase Price\", \"Total Purchase Value\", \"Normalized Totals\"]]\n",
    "ageDemographic.head(12)\n",
    "\n",
    "# I don't understand the warning message that is generated with this block.  Luckily I get the correct answer"
   ]
  },
  {
   "cell_type": "markdown",
   "metadata": {},
   "source": [
    "## Top Spenders"
   ]
  },
  {
   "cell_type": "markdown",
   "metadata": {},
   "source": [
    "* Run basic calculations to obtain the results in the table below\n",
    "\n",
    "\n",
    "* Create a summary data frame to hold the results\n",
    "\n",
    "\n",
    "* Sort the total purchase value column in descending order\n",
    "\n",
    "\n",
    "* Optional: give the displayed data cleaner formatting\n",
    "\n",
    "\n",
    "* Display a preview of the summary data frame\n",
    "\n"
   ]
  },
  {
   "cell_type": "code",
   "execution_count": null,
   "metadata": {},
   "outputs": [],
   "source": [
    "#groupBySN = df.groupby([\"SN\"])  <--moved up top\n",
    "groupSNCount = groupBySN[\"Item ID\"].count()\n",
    "groupSNTotal = groupBySN[\"Price\"].sum()\n",
    "groupSNAvg = (groupSNTotal / groupSNCount)\n",
    "\n",
    "# Build DF and format\n",
    "spenders = pd.DataFrame({\"Purchase Count\": groupSNCount,\n",
    "                         \"Average Purchase Price\": groupSNAvg,\n",
    "                         \"Total Purchase Value\": groupSNTotal})\n",
    "\n",
    "spenders = spenders.sort_values(\"Total Purchase Value\", ascending=False) \n",
    "spenders[\"Average Purchase Price\"] = spenders[\"Average Purchase Price\"].map(\"${:.2f}\".format)\n",
    "spenders[\"Total Purchase Value\"] = spenders[\"Total Purchase Value\"].map(\"${:.2f}\".format)\n",
    "spenders = spenders[[\"Purchase Count\", \"Average Purchase Price\", \"Total Purchase Value\"]]\n",
    "spenders.head() "
   ]
  },
  {
   "cell_type": "markdown",
   "metadata": {},
   "source": [
    "## Most Popular Items"
   ]
  },
  {
   "cell_type": "markdown",
   "metadata": {},
   "source": [
    "* Retrieve the Item ID, Item Name, and Item Price columns\n",
    "\n",
    "\n",
    "* Group by Item ID and Item Name. Perform calculations to obtain purchase count, average item price, and total purchase value\n",
    "\n",
    "\n",
    "* Create a summary data frame to hold the results\n",
    "\n",
    "\n",
    "* Sort the purchase count column in descending order\n",
    "\n",
    "\n",
    "* Optional: give the displayed data cleaner formatting\n",
    "\n",
    "\n",
    "* Display a preview of the summary data frame\n",
    "\n"
   ]
  },
  {
   "cell_type": "code",
   "execution_count": null,
   "metadata": {},
   "outputs": [],
   "source": [
    "#groupItem = df.groupby([\"Item ID\", \"Item Name\"])  <-- moved up top\n",
    "groupItemCount = groupItem[\"SN\"].count()\n",
    "groupPriceSum = groupItem[\"Price\"].sum()\n",
    "groupItemPrice = (groupPriceSum / groupItemCount)\n",
    "groupItemValue = (groupItemPrice * groupItemCount)\n",
    "\n",
    "# New DF with formatting\n",
    "popularItem = pd.DataFrame({\"Purchase Count\": groupItemCount,\n",
    "                          \"Item Price\": groupItemPrice,\n",
    "                          \"Total Purchase Value\": groupItemValue})\n",
    "\n",
    "popularItem = popularItem.sort_values(\"Purchase Count\", ascending=False) \n",
    "popularItem[\"Item Price\"] = popularItem[\"Item Price\"].map(\"${:.2f}\".format)\n",
    "popularItem[\"Total Purchase Value\"] = popularItem[\"Total Purchase Value\"].map(\"${:.2f}\".format)\n",
    "popularItem = popularItem[[\"Purchase Count\", \"Item Price\", \"Total Purchase Value\"]]\n",
    "popularItem.head()"
   ]
  },
  {
   "cell_type": "markdown",
   "metadata": {},
   "source": [
    "## Most Profitable Items"
   ]
  },
  {
   "cell_type": "markdown",
   "metadata": {},
   "source": [
    "* Sort the above table by total purchase value in descending order\n",
    "\n",
    "\n",
    "* Optional: give the displayed data cleaner formatting\n",
    "\n",
    "\n",
    "* Display a preview of the data frame\n",
    "\n"
   ]
  },
  {
   "cell_type": "code",
   "execution_count": null,
   "metadata": {
    "scrolled": true
   },
   "outputs": [],
   "source": [
    "#groupedItem = df.groupby([\"Item ID\", \"Item Name\"])  <-- moved up top\n",
    "groupItemCount = groupItem[\"Gender\"].count()\n",
    "groupSum = groupItem[\"Price\"].sum()\n",
    "groupItemPrice = (groupSum / groupItemCount)\n",
    "\n",
    "# Make a new DF and format\n",
    "mostProf = pd.DataFrame({\"Purchase Count\": groupItemCount,\n",
    "                          \"Item Price\": groupItemPrice,\n",
    "                          \"Total Purchase Value\": groupSum})\n",
    "\n",
    "mostProf = mostProf.sort_values(\"Total Purchase Value\", ascending=False) \n",
    "mostProf[\"Item Price\"] = mostProf[\"Item Price\"].map(\"${:.2f}\".format)\n",
    "mostProf[\"Total Purchase Value\"] = mostProf[\"Total Purchase Value\"].map(\"${:.2f}\".format)\n",
    "mostProf = mostProf[[\"Purchase Count\", \"Item Price\", \"Total Purchase Value\"]]\n",
    "mostProf.head()"
   ]
  },
  {
   "cell_type": "code",
   "execution_count": null,
   "metadata": {},
   "outputs": [],
   "source": [
    "#Observations:  \n",
    "# 1) Gaming is heavily male oriented at 84+%, compared to the combined female/other/non-dislcosed of 15$\n",
    "# 2) The 15 to 30 demographic are by far the least patient/istant gratification, \n",
    "#    and are willing to buy skills/tools rather than earn them in game play\n",
    "# 3) This game is most popular with the 15-30 demo, which should influence where marketing dollars are spent."
   ]
  },
  {
   "cell_type": "code",
   "execution_count": null,
   "metadata": {},
   "outputs": [],
   "source": []
  }
 ],
 "metadata": {
  "anaconda-cloud": {},
  "kernel_info": {
   "name": "python3"
  },
  "kernelspec": {
   "display_name": "Python 3",
   "language": "python",
   "name": "python3"
  },
  "language_info": {
   "codemirror_mode": {
    "name": "ipython",
    "version": 3
   },
   "file_extension": ".py",
   "mimetype": "text/x-python",
   "name": "python",
   "nbconvert_exporter": "python",
   "pygments_lexer": "ipython3",
   "version": "3.8.5"
  },
  "latex_envs": {
   "LaTeX_envs_menu_present": true,
   "autoclose": false,
   "autocomplete": true,
   "bibliofile": "biblio.bib",
   "cite_by": "apalike",
   "current_citInitial": 1,
   "eqLabelWithNumbers": true,
   "eqNumInitial": 1,
   "hotkeys": {
    "equation": "Ctrl-E",
    "itemize": "Ctrl-I"
   },
   "labels_anchors": false,
   "latex_user_defs": false,
   "report_style_numbering": false,
   "user_envs_cfg": false
  },
  "nteract": {
   "version": "0.2.0"
  }
 },
 "nbformat": 4,
 "nbformat_minor": 2
}
